{
 "cells": [
  {
   "cell_type": "code",
   "execution_count": 1,
   "id": "6e210634",
   "metadata": {
    "ExecuteTime": {
     "end_time": "2022-04-22T00:35:25.556728Z",
     "start_time": "2022-04-22T00:35:25.396901Z"
    }
   },
   "outputs": [],
   "source": [
    "import cv2"
   ]
  },
  {
   "cell_type": "code",
   "execution_count": 3,
   "id": "65fec00c",
   "metadata": {
    "ExecuteTime": {
     "end_time": "2022-04-22T00:35:32.132990Z",
     "start_time": "2022-04-22T00:35:32.091757Z"
    }
   },
   "outputs": [
    {
     "name": "stdout",
     "output_type": "stream",
     "text": [
      "length : 3993.0\n",
      "width : 1280.0\n",
      "height : 960.0\n",
      "fps : 20.0\n"
     ]
    }
   ],
   "source": [
    "## 현재 영상의 정보를 확인\n",
    "vidcap = cv2.VideoCapture(\"./발표 데이터/수정_sr2.mp4\")\n",
    "\n",
    "length = vidcap.get(cv2.CAP_PROP_FRAME_COUNT)\n",
    "width = vidcap.get(cv2.CAP_PROP_FRAME_WIDTH)\n",
    "height = vidcap.get(cv2.CAP_PROP_FRAME_HEIGHT)\n",
    "fps = vidcap.get(cv2.CAP_PROP_FPS)\n",
    "\n",
    "print(\"length :\" , length)\n",
    "print(\"width :\" , width)\n",
    "print(\"height :\" , height)\n",
    "print(\"fps :\" , fps)"
   ]
  },
  {
   "cell_type": "code",
   "execution_count": null,
   "id": "5813a747",
   "metadata": {
    "ExecuteTime": {
     "start_time": "2022-04-22T00:35:42.646Z"
    }
   },
   "outputs": [],
   "source": [
    "## 영상에서 이미지 추출해서 리사이즈후 저장(그대로)\n",
    "# 주석내용을 활용해서 이미지 축소도 가능\n",
    "\n",
    "vidcap = cv2.VideoCapture(\"./발표 데이터/수정_sr2.mp4\")\n",
    "\n",
    "new_path = './sr2/' # lr, hr : 이미지 추출 저장 경로\n",
    "\n",
    "count = 0 \n",
    "\n",
    "while(vidcap.isOpened()): \n",
    "    ret, image = vidcap.read()\n",
    "    if ret:\n",
    "        # lr : 이미지 사이즈 area 축소 320 240으로 변경\n",
    "        #image = cv2.resize(image, dsize=(320, 240), interpolation=cv2.INTER_AREA)\n",
    "        if(int(vidcap.get(1)) % 3 == 0): #영상 프레임에 맞게 조절\n",
    "            cv2.imwrite(new_path+\"frame%d.png\" % count, image) #\n",
    "            count += 1\n",
    "    else:\n",
    "        break\n",
    "        \n",
    "vidcap.release()"
   ]
  },
  {
   "cell_type": "code",
   "execution_count": 10,
   "id": "b630b2d8",
   "metadata": {
    "ExecuteTime": {
     "end_time": "2022-04-13T03:26:24.413218Z",
     "start_time": "2022-04-13T03:25:48.093929Z"
    }
   },
   "outputs": [],
   "source": [
    "## 이미지폴더에서 이미지 추출해서 리사이즈후 저장(해상도 낮추기)\n",
    "import os\n",
    "import cv2\n",
    "import natsort\n",
    "\n",
    "path = \"./hr2/\"\n",
    "save_path = \"./hr2_down/\"\n",
    "\n",
    "l = os.listdir(path)\n",
    "if \".DS_Store\" in l:\n",
    "    l.remove(\".DS_Store\")\n",
    "    \n",
    "l = natsort.natsorted(l)\n",
    "\n",
    "for i,x in enumerate(l):\n",
    "    img = cv2.imread(path+x)\n",
    "    img = cv2.resize(img,dsize=(320,240),interpolation=cv2.INTER_AREA)\n",
    "    cv2.imwrite(save_path+\"frame%d.png\" %i, img)"
   ]
  }
 ],
 "metadata": {
  "kernelspec": {
   "display_name": "Python 3 (ipykernel)",
   "language": "python",
   "name": "python3"
  },
  "language_info": {
   "codemirror_mode": {
    "name": "ipython",
    "version": 3
   },
   "file_extension": ".py",
   "mimetype": "text/x-python",
   "name": "python",
   "nbconvert_exporter": "python",
   "pygments_lexer": "ipython3",
   "version": "3.9.12"
  },
  "toc": {
   "base_numbering": 1,
   "nav_menu": {},
   "number_sections": true,
   "sideBar": true,
   "skip_h1_title": false,
   "title_cell": "Table of Contents",
   "title_sidebar": "Contents",
   "toc_cell": false,
   "toc_position": {},
   "toc_section_display": true,
   "toc_window_display": false
  },
  "varInspector": {
   "cols": {
    "lenName": 16,
    "lenType": 16,
    "lenVar": 40
   },
   "kernels_config": {
    "python": {
     "delete_cmd_postfix": "",
     "delete_cmd_prefix": "del ",
     "library": "var_list.py",
     "varRefreshCmd": "print(var_dic_list())"
    },
    "r": {
     "delete_cmd_postfix": ") ",
     "delete_cmd_prefix": "rm(",
     "library": "var_list.r",
     "varRefreshCmd": "cat(var_dic_list()) "
    }
   },
   "types_to_exclude": [
    "module",
    "function",
    "builtin_function_or_method",
    "instance",
    "_Feature"
   ],
   "window_display": false
  }
 },
 "nbformat": 4,
 "nbformat_minor": 5
}
