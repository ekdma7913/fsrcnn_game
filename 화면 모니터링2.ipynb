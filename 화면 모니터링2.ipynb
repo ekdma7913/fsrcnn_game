{
 "cells": [
  {
   "cell_type": "code",
   "execution_count": 1,
   "id": "55b6a995",
   "metadata": {
    "ExecuteTime": {
     "end_time": "2022-04-11T06:52:30.244506Z",
     "start_time": "2022-04-11T06:52:30.236527Z"
    }
   },
   "outputs": [],
   "source": [
    "## 윈도우 화면 특정 영역 선택하여 opencv로 모니터링하기\n",
    "\n",
    "#pip install pillow #설치는 pillow 지만 PIL으로 import 합니다\n",
    "#pip install opencv-python\n",
    "#pip install keyboard\n",
    "#pip install mouse"
   ]
  },
  {
   "cell_type": "code",
   "execution_count": 7,
   "id": "896a76c3",
   "metadata": {
    "ExecuteTime": {
     "end_time": "2022-04-18T08:34:14.550220Z",
     "start_time": "2022-04-18T08:34:14.544916Z"
    }
   },
   "outputs": [],
   "source": [
    "## 화면 실시간으로 읽기 라이브러리\n",
    "from PIL import ImageGrab\n",
    "from PIL import Image\n",
    "import cv2\n",
    "import keyboard\n",
    "#import mouse\n",
    "import numpy as np\n",
    "import time"
   ]
  },
  {
   "cell_type": "code",
   "execution_count": 8,
   "id": "285c72fa",
   "metadata": {
    "ExecuteTime": {
     "end_time": "2022-04-18T08:34:16.016933Z",
     "start_time": "2022-04-18T08:34:16.013834Z"
    }
   },
   "outputs": [],
   "source": [
    "## 텐서플로 라이브러리\n",
    "import tensorflow as tf"
   ]
  },
  {
   "cell_type": "code",
   "execution_count": 9,
   "id": "3c1530d7",
   "metadata": {
    "ExecuteTime": {
     "end_time": "2022-04-18T08:34:16.367274Z",
     "start_time": "2022-04-18T08:34:16.364676Z"
    }
   },
   "outputs": [],
   "source": [
    "## mss 라이브러리 불러오기\n",
    "import mss"
   ]
  },
  {
   "cell_type": "code",
   "execution_count": 10,
   "id": "e745fd63",
   "metadata": {
    "ExecuteTime": {
     "end_time": "2022-04-18T08:34:16.936684Z",
     "start_time": "2022-04-18T08:34:16.796049Z"
    }
   },
   "outputs": [],
   "source": [
    "## srcnn 모델 불러오기\n",
    "# 모델 불러오기\n",
    "fsrcnn = tf.keras.models.load_model(\"./model/fsrcnn_start4.h5\")\n",
    "\n",
    "#fsrcnn.summary()"
   ]
  },
  {
   "cell_type": "code",
   "execution_count": 11,
   "id": "d7275856",
   "metadata": {
    "ExecuteTime": {
     "end_time": "2022-04-18T08:34:19.033390Z",
     "start_time": "2022-04-18T08:34:19.029073Z"
    }
   },
   "outputs": [],
   "source": [
    "# fsrcnn_sr 불러오기\n",
    "\n",
    "def apply_fsrcnn(x):\n",
    "    sr = fsrcnn.predict(x[np.newaxis, ...]/255.)\n",
    "    sr[sr > 1] = 1\n",
    "    sr[sr < 0] = 0\n",
    "    sr *= 255.\n",
    "    \n",
    "    return np.array(sr[0].astype(np.uint8))"
   ]
  },
  {
   "cell_type": "code",
   "execution_count": 16,
   "id": "8bce5a84",
   "metadata": {
    "ExecuteTime": {
     "end_time": "2022-04-11T01:31:43.314740Z",
     "start_time": "2022-04-11T01:31:43.296873Z"
    }
   },
   "outputs": [],
   "source": [
    "'''def set_roi():\n",
    "    global ROI_SET, x1, y1, x2, y2\n",
    "    ROI_SET = False\n",
    "    print(\"Select your ROI using mouse drag.\")\n",
    "    while(mouse.is_pressed() == False):\n",
    "        x1, y1 = mouse.get_position()\n",
    "        while(mouse.is_pressed() == True):\n",
    "            x2, y2 = mouse.get_position()\n",
    "            while(mouse.is_pressed() == False):\n",
    "                print(\"Your ROI : {0}, {1}, {2}, {3}\".format(x1, y1, x2, y2))\n",
    "                ROI_SET = True\n",
    "                return'''"
   ]
  },
  {
   "cell_type": "code",
   "execution_count": 8,
   "id": "208411db",
   "metadata": {
    "ExecuteTime": {
     "end_time": "2022-04-11T05:33:30.176561Z",
     "start_time": "2022-04-11T05:33:30.157511Z"
    }
   },
   "outputs": [
    {
     "ename": "SyntaxError",
     "evalue": "invalid syntax (2186201683.py, line 10)",
     "output_type": "error",
     "traceback": [
      "\u001b[1;36m  Input \u001b[1;32mIn [8]\u001b[1;36m\u001b[0m\n\u001b[1;33m    image = cv2.\u001b[0m\n\u001b[1;37m                ^\u001b[0m\n\u001b[1;31mSyntaxError\u001b[0m\u001b[1;31m:\u001b[0m invalid syntax\n"
     ]
    }
   ],
   "source": [
    "# 맥의 환경\n",
    "#keyboard.add_hotkey(\"ctrl+1\", lambda: set_roi())\n",
    "\n",
    "#ROI_SET = False\n",
    "x1, y1, x2, y2 = 1700, 700, 2700, 1200\n",
    "while True:\n",
    "    #image = cv2.cvtColor(np.array(ImageGrab.grab(bbox=(x1, y1, x2, y2))), cv2.COLOR_BGR2RGB)\n",
    "    image = cv2.\n",
    "    cv2.imshow(\"image\", image)\n",
    "    key = cv2.waitKey(1)\n",
    "    if key == ord(\"q\"):\n",
    "        print(\"Quit\")\n",
    "        break\n",
    "\n",
    "cv2.waitKey(0) # 맥\n",
    "cv2.destroyAllWindows()\n",
    "cv2.waitKey(1) # 맥"
   ]
  },
  {
   "cell_type": "code",
   "execution_count": 20,
   "id": "231d0b9c",
   "metadata": {
    "ExecuteTime": {
     "end_time": "2022-04-11T07:00:12.851262Z",
     "start_time": "2022-04-11T06:59:46.189304Z"
    }
   },
   "outputs": [
    {
     "name": "stdout",
     "output_type": "stream",
     "text": [
      "Quit\n"
     ]
    }
   ],
   "source": [
    "# 윈도우 환경 + 그냥 출력\n",
    "# 640 480\n",
    "x1, y1, x2, y2 = 1700, 700, 2340, 1180\n",
    "\n",
    "while True:\n",
    "    img = np.array(ImageGrab.grab(bbox=(x1, y1, x2, y2)))\n",
    "    image = cv2.cvtColor(img, cv2.COLOR_BGR2RGB)\n",
    "    cv2.imshow(\"image\",image)\n",
    "    key = cv2.waitKey(1)\n",
    "    if key == ord(\"q\"):\n",
    "        print(\"Quit\")\n",
    "        break\n",
    "\n",
    "cv2.destroyAllWindows()"
   ]
  },
  {
   "cell_type": "code",
   "execution_count": 24,
   "id": "ee638c1f",
   "metadata": {
    "ExecuteTime": {
     "end_time": "2022-04-11T07:08:32.866833Z",
     "start_time": "2022-04-11T07:06:52.887059Z"
    },
    "scrolled": true
   },
   "outputs": [
    {
     "name": "stdout",
     "output_type": "stream",
     "text": [
      "Quit\n"
     ]
    }
   ],
   "source": [
    "# 윈도우 환경 + 모델 이용\n",
    "# 640 480\n",
    "#x1, y1, x2, y2 = 1700, 700, 2340, 1180\n",
    "# 320 240\n",
    "x1, y1, x2, y2 = 1700, 700, 2020, 940\n",
    "\n",
    "while True:\n",
    "    image = cv2.cvtColor(apply_fsrcnn(np.array(ImageGrab.grab(bbox=(x1, y1, x2, y2)))), cv2.COLOR_BGR2RGB)\n",
    "    cv2.imshow(\"image\",image)\n",
    "    key = cv2.waitKey(1)\n",
    "    if key == ord(\"q\"):\n",
    "        print(\"Quit\")\n",
    "        break\n",
    "\n",
    "cv2.destroyAllWindows()"
   ]
  },
  {
   "cell_type": "code",
   "execution_count": 13,
   "id": "f4e3f571",
   "metadata": {
    "ExecuteTime": {
     "end_time": "2022-04-11T06:54:46.432478Z",
     "start_time": "2022-04-11T06:54:33.606547Z"
    }
   },
   "outputs": [
    {
     "name": "stdout",
     "output_type": "stream",
     "text": [
      "Quit\n"
     ]
    }
   ],
   "source": [
    "# 윈도우 환경 + 모델2 이용\n",
    "# 640 480\n",
    "#x1, y1, x2, y2 = 1700, 700, 2340, 1180\n",
    "\n",
    "while True:\n",
    "    # Capture entire screen\n",
    "    with mss.mss() as sct:\n",
    "        monitor = {\"top\": 700, \"left\": 1700, \"width\": 640, \"height\": 480}\n",
    "        sct_img = sct.grab(monitor)\n",
    "        img = Image.frombytes(\"RGB\", sct_img.size, sct_img.bgra, \"raw\", \"BGRX\")\n",
    "\n",
    "    image = cv2.cvtColor(apply_fsrcnn(np.array(img)), cv2.COLOR_BGR2RGB)\n",
    "    cv2.imshow(\"image\",image)\n",
    "    key = cv2.waitKey(1)\n",
    "    if key == ord(\"q\"):\n",
    "        print(\"Quit\")\n",
    "        break\n",
    "                             \n",
    "cv2.destroyAllWindows()"
   ]
  },
  {
   "cell_type": "code",
   "execution_count": 34,
   "id": "50bcc618",
   "metadata": {
    "ExecuteTime": {
     "end_time": "2022-04-11T08:45:22.464407Z",
     "start_time": "2022-04-11T07:53:39.537522Z"
    }
   },
   "outputs": [
    {
     "name": "stdout",
     "output_type": "stream",
     "text": [
      "Quit\n"
     ]
    }
   ],
   "source": [
    "# 윈도우 환경 + 모델2 이용_변수 최대한 줄이기\n",
    "# 640 480\n",
    "#x1, y1, x2, y2 = 1700, 700, 2340, 1180\n",
    "\n",
    "# 320 240\n",
    "#x1, y1, x2, y2 = 1700, 700, 2340, 1180\n",
    "\n",
    "while True:\n",
    "    with mss.mss() as sct:\n",
    "        image = cv2.cvtColor(apply_fsrcnn(np.array(Image.frombytes(\"RGB\", sct.grab({\"top\": 700, \"left\": 1700, \"width\": 320, \"height\": 240}).size, sct.grab({\"top\": 700, \"left\": 1700, \"width\": 320, \"height\": 240}).bgra, \"raw\", \"BGRX\"))), cv2.COLOR_BGR2RGB)\n",
    "    cv2.imshow(\"image\",image)\n",
    "    if cv2.waitKey(1) == ord(\"q\"):\n",
    "        print(\"Quit\")\n",
    "        break\n",
    "                             \n",
    "cv2.destroyAllWindows()"
   ]
  },
  {
   "cell_type": "code",
   "execution_count": null,
   "id": "82fce1b8",
   "metadata": {},
   "outputs": [],
   "source": [
    "# 윈도우 환경 + 모델2 이용_변수 최대한 줄이기 + CLAHE 적용\n",
    "\n",
    "clahe = cv2.createCLAHE(clipLimit=0.5, tileGridSize=(8,8)) #CLAHE 생성\n",
    "\n",
    "while True:\n",
    "    with mss.mss() as sct:\n",
    "        image = cv2.cvtColor(apply_fsrcnn(np.array(Image.frombytes(\"RGB\", sct.grab({\"top\": 700, \"left\": 1700, \"width\": 320, \"height\": 240}).size, sct.grab({\"top\": 700, \"left\": 1700, \"width\": 320, \"height\": 240}).bgra, \"raw\", \"BGRX\"))), cv2.COLOR_BGR2YUV)\n",
    "        image[:,:,0] = clahe.apply(image[:,:,0])  \n",
    "        image = cv2.cvtColor(image, cv2.COLOR_YUV2BGR)\n",
    "    cv2.imshow(\"image\",image)\n",
    "    if cv2.waitKey(1) == ord(\"q\"):\n",
    "        print(\"Quit\")\n",
    "        break\n",
    "                             \n",
    "cv2.destroyAllWindows()"
   ]
  },
  {
   "cell_type": "code",
   "execution_count": 22,
   "id": "2d03bae7",
   "metadata": {
    "ExecuteTime": {
     "end_time": "2022-04-11T07:02:25.158992Z",
     "start_time": "2022-04-11T07:01:24.206858Z"
    }
   },
   "outputs": [
    {
     "name": "stdout",
     "output_type": "stream",
     "text": [
      "Quit\n"
     ]
    }
   ],
   "source": [
    "# 윈도우 환경 + 모델2 이용 + 그냥 출력\n",
    "# 640 480\n",
    "x1, y1, x2, y2 = 1700, 700, 2340, 1180\n",
    "\n",
    "while True:\n",
    "    # Capture entire screen\n",
    "    with mss.mss() as sct:\n",
    "        monitor = {\"top\": 700, \"left\": 1700, \"width\": 640, \"height\": 480}\n",
    "        sct_img = sct.grab(monitor)\n",
    "        img = Image.frombytes(\"RGB\", sct_img.size, sct_img.bgra, \"raw\", \"BGRX\")\n",
    "    # Convert to PIL/Pillow Image\n",
    "    image = cv2.cvtColor(np.array(img), cv2.COLOR_BGR2RGB)\n",
    "    cv2.imshow(\"image\",image)\n",
    "    key = cv2.waitKey(1)\n",
    "    if key == ord(\"q\"):\n",
    "        print(\"Quit\")\n",
    "        break\n",
    "                             \n",
    "cv2.destroyAllWindows()"
   ]
  },
  {
   "cell_type": "code",
   "execution_count": 7,
   "id": "9de06556",
   "metadata": {
    "ExecuteTime": {
     "end_time": "2022-04-11T06:53:15.166587Z",
     "start_time": "2022-04-11T06:52:54.908919Z"
    }
   },
   "outputs": [
    {
     "name": "stdout",
     "output_type": "stream",
     "text": [
      "Quit\n"
     ]
    }
   ],
   "source": [
    "# 윈도우 환경 + 모델3 이용\n",
    "import pyscreenshot as ImageGrab2\n",
    "\n",
    "# 640 480\n",
    "x1, y1, x2, y2 = 1700, 700, 2340, 1180\n",
    "# 320 240\n",
    "#x1, y1, x2, y2 = 1700, 700, 2020, 940\n",
    "\n",
    "while True:\n",
    "    img=ImageGrab2.grab(bbox=(x1,y1,x2,y2))\n",
    "    image = cv2.cvtColor(apply_fsrcnn(np.array(img)), cv2.COLOR_BGR2RGB)\n",
    "    cv2.imshow(\"image\",image)\n",
    "    key = cv2.waitKey(1)\n",
    "    if key == ord(\"q\"):\n",
    "        print(\"Quit\")\n",
    "        break\n",
    "\n",
    "cv2.destroyAllWindows()"
   ]
  },
  {
   "cell_type": "code",
   "execution_count": 12,
   "id": "3c76c622",
   "metadata": {
    "ExecuteTime": {
     "end_time": "2022-04-18T08:34:27.283153Z",
     "start_time": "2022-04-18T08:34:27.280210Z"
    }
   },
   "outputs": [],
   "source": [
    "############### 속도 측정\n",
    "import time\n",
    "from datetime import timedelta"
   ]
  },
  {
   "cell_type": "code",
   "execution_count": 21,
   "id": "aff1229a",
   "metadata": {
    "ExecuteTime": {
     "end_time": "2022-04-18T08:38:52.880861Z",
     "start_time": "2022-04-18T08:38:52.668925Z"
    }
   },
   "outputs": [
    {
     "ename": "InvalidArgumentError",
     "evalue": " input depth must be evenly divisible by filter depth: 4 vs 3\n\t [[node sequential/conv2d/Conv2D\n (defined at /Users/yu/miniforge3/envs/tf39/lib/python3.9/site-packages/keras/layers/convolutional.py:231)\n]] [Op:__inference_predict_function_1928]\n\nErrors may have originated from an input operation.\nInput Source operations connected to node sequential/conv2d/Conv2D:\nIn[0] IteratorGetNext (defined at /Users/yu/miniforge3/envs/tf39/lib/python3.9/site-packages/keras/engine/training.py:1610)\t\nIn[1] sequential/conv2d/Conv2D/ReadVariableOp:\n\nOperation defined at: (most recent call last)\n>>>   File \"/Users/yu/miniforge3/envs/tf39/lib/python3.9/runpy.py\", line 197, in _run_module_as_main\n>>>     return _run_code(code, main_globals, None,\n>>> \n>>>   File \"/Users/yu/miniforge3/envs/tf39/lib/python3.9/runpy.py\", line 87, in _run_code\n>>>     exec(code, run_globals)\n>>> \n>>>   File \"/Users/yu/miniforge3/envs/tf39/lib/python3.9/site-packages/ipykernel_launcher.py\", line 17, in <module>\n>>>     app.launch_new_instance()\n>>> \n>>>   File \"/Users/yu/miniforge3/envs/tf39/lib/python3.9/site-packages/traitlets/config/application.py\", line 846, in launch_instance\n>>>     app.start()\n>>> \n>>>   File \"/Users/yu/miniforge3/envs/tf39/lib/python3.9/site-packages/ipykernel/kernelapp.py\", line 712, in start\n>>>     self.io_loop.start()\n>>> \n>>>   File \"/Users/yu/miniforge3/envs/tf39/lib/python3.9/site-packages/tornado/platform/asyncio.py\", line 199, in start\n>>>     self.asyncio_loop.run_forever()\n>>> \n>>>   File \"/Users/yu/miniforge3/envs/tf39/lib/python3.9/asyncio/base_events.py\", line 601, in run_forever\n>>>     self._run_once()\n>>> \n>>>   File \"/Users/yu/miniforge3/envs/tf39/lib/python3.9/asyncio/base_events.py\", line 1905, in _run_once\n>>>     handle._run()\n>>> \n>>>   File \"/Users/yu/miniforge3/envs/tf39/lib/python3.9/asyncio/events.py\", line 80, in _run\n>>>     self._context.run(self._callback, *self._args)\n>>> \n>>>   File \"/Users/yu/miniforge3/envs/tf39/lib/python3.9/site-packages/ipykernel/kernelbase.py\", line 504, in dispatch_queue\n>>>     await self.process_one()\n>>> \n>>>   File \"/Users/yu/miniforge3/envs/tf39/lib/python3.9/site-packages/ipykernel/kernelbase.py\", line 493, in process_one\n>>>     await dispatch(*args)\n>>> \n>>>   File \"/Users/yu/miniforge3/envs/tf39/lib/python3.9/site-packages/ipykernel/kernelbase.py\", line 400, in dispatch_shell\n>>>     await result\n>>> \n>>>   File \"/Users/yu/miniforge3/envs/tf39/lib/python3.9/site-packages/ipykernel/kernelbase.py\", line 724, in execute_request\n>>>     reply_content = await reply_content\n>>> \n>>>   File \"/Users/yu/miniforge3/envs/tf39/lib/python3.9/site-packages/ipykernel/ipkernel.py\", line 390, in do_execute\n>>>     res = shell.run_cell(code, store_history=store_history, silent=silent)\n>>> \n>>>   File \"/Users/yu/miniforge3/envs/tf39/lib/python3.9/site-packages/ipykernel/zmqshell.py\", line 528, in run_cell\n>>>     return super().run_cell(*args, **kwargs)\n>>> \n>>>   File \"/Users/yu/miniforge3/envs/tf39/lib/python3.9/site-packages/IPython/core/interactiveshell.py\", line 2863, in run_cell\n>>>     result = self._run_cell(\n>>> \n>>>   File \"/Users/yu/miniforge3/envs/tf39/lib/python3.9/site-packages/IPython/core/interactiveshell.py\", line 2909, in _run_cell\n>>>     return runner(coro)\n>>> \n>>>   File \"/Users/yu/miniforge3/envs/tf39/lib/python3.9/site-packages/IPython/core/async_helpers.py\", line 129, in _pseudo_sync_runner\n>>>     coro.send(None)\n>>> \n>>>   File \"/Users/yu/miniforge3/envs/tf39/lib/python3.9/site-packages/IPython/core/interactiveshell.py\", line 3106, in run_cell_async\n>>>     has_raised = await self.run_ast_nodes(code_ast.body, cell_name,\n>>> \n>>>   File \"/Users/yu/miniforge3/envs/tf39/lib/python3.9/site-packages/IPython/core/interactiveshell.py\", line 3309, in run_ast_nodes\n>>>     if await self.run_code(code, result, async_=asy):\n>>> \n>>>   File \"/Users/yu/miniforge3/envs/tf39/lib/python3.9/site-packages/IPython/core/interactiveshell.py\", line 3369, in run_code\n>>>     exec(code_obj, self.user_global_ns, self.user_ns)\n>>> \n>>>   File \"/var/folders/l9/xyk822g16sl49q_kknpsjxtm0000gn/T/ipykernel_6606/3057197110.py\", line 9, in <cell line: 9>\n>>>     image = cv2.cvtColor(apply_fsrcnn(np.array(img)), cv2.COLOR_BGR2RGB)\n>>> \n>>>   File \"/var/folders/l9/xyk822g16sl49q_kknpsjxtm0000gn/T/ipykernel_6606/592340928.py\", line 4, in apply_fsrcnn\n>>>     sr = fsrcnn.predict(x[np.newaxis, ...]/255.)\n>>> \n>>>   File \"/Users/yu/miniforge3/envs/tf39/lib/python3.9/site-packages/keras/utils/traceback_utils.py\", line 64, in error_handler\n>>>     return fn(*args, **kwargs)\n>>> \n>>>   File \"/Users/yu/miniforge3/envs/tf39/lib/python3.9/site-packages/keras/engine/training.py\", line 1789, in predict\n>>>     tmp_batch_outputs = self.predict_function(iterator)\n>>> \n>>>   File \"/Users/yu/miniforge3/envs/tf39/lib/python3.9/site-packages/keras/engine/training.py\", line 1621, in predict_function\n>>>     return step_function(self, iterator)\n>>> \n>>>   File \"/Users/yu/miniforge3/envs/tf39/lib/python3.9/site-packages/keras/engine/training.py\", line 1611, in step_function\n>>>     outputs = model.distribute_strategy.run(run_step, args=(data,))\n>>> \n>>>   File \"/Users/yu/miniforge3/envs/tf39/lib/python3.9/site-packages/keras/engine/training.py\", line 1604, in run_step\n>>>     outputs = model.predict_step(data)\n>>> \n>>>   File \"/Users/yu/miniforge3/envs/tf39/lib/python3.9/site-packages/keras/engine/training.py\", line 1572, in predict_step\n>>>     return self(x, training=False)\n>>> \n>>>   File \"/Users/yu/miniforge3/envs/tf39/lib/python3.9/site-packages/keras/utils/traceback_utils.py\", line 64, in error_handler\n>>>     return fn(*args, **kwargs)\n>>> \n>>>   File \"/Users/yu/miniforge3/envs/tf39/lib/python3.9/site-packages/keras/engine/base_layer.py\", line 1083, in __call__\n>>>     outputs = call_fn(inputs, *args, **kwargs)\n>>> \n>>>   File \"/Users/yu/miniforge3/envs/tf39/lib/python3.9/site-packages/keras/utils/traceback_utils.py\", line 92, in error_handler\n>>>     return fn(*args, **kwargs)\n>>> \n>>>   File \"/Users/yu/miniforge3/envs/tf39/lib/python3.9/site-packages/keras/engine/sequential.py\", line 373, in call\n>>>     return super(Sequential, self).call(inputs, training=training, mask=mask)\n>>> \n>>>   File \"/Users/yu/miniforge3/envs/tf39/lib/python3.9/site-packages/keras/engine/functional.py\", line 451, in call\n>>>     return self._run_internal_graph(\n>>> \n>>>   File \"/Users/yu/miniforge3/envs/tf39/lib/python3.9/site-packages/keras/engine/functional.py\", line 589, in _run_internal_graph\n>>>     outputs = node.layer(*args, **kwargs)\n>>> \n>>>   File \"/Users/yu/miniforge3/envs/tf39/lib/python3.9/site-packages/keras/utils/traceback_utils.py\", line 64, in error_handler\n>>>     return fn(*args, **kwargs)\n>>> \n>>>   File \"/Users/yu/miniforge3/envs/tf39/lib/python3.9/site-packages/keras/engine/base_layer.py\", line 1083, in __call__\n>>>     outputs = call_fn(inputs, *args, **kwargs)\n>>> \n>>>   File \"/Users/yu/miniforge3/envs/tf39/lib/python3.9/site-packages/keras/utils/traceback_utils.py\", line 92, in error_handler\n>>>     return fn(*args, **kwargs)\n>>> \n>>>   File \"/Users/yu/miniforge3/envs/tf39/lib/python3.9/site-packages/keras/layers/convolutional.py\", line 246, in call\n>>>     outputs = self.convolution_op(inputs, self.kernel)\n>>> \n>>>   File \"/Users/yu/miniforge3/envs/tf39/lib/python3.9/site-packages/keras/layers/convolutional.py\", line 231, in convolution_op\n>>>     return tf.nn.convolution(\n>>> ",
     "output_type": "error",
     "traceback": [
      "\u001b[0;31m---------------------------------------------------------------------------\u001b[0m",
      "\u001b[0;31mInvalidArgumentError\u001b[0m                      Traceback (most recent call last)",
      "Input \u001b[0;32mIn [21]\u001b[0m, in \u001b[0;36m<cell line: 6>\u001b[0;34m()\u001b[0m\n\u001b[1;32m      2\u001b[0m x1, y1, x2, y2 \u001b[38;5;241m=\u001b[39m \u001b[38;5;241m0\u001b[39m, \u001b[38;5;241m0\u001b[39m, \u001b[38;5;241m640\u001b[39m, \u001b[38;5;241m480\u001b[39m\n\u001b[1;32m      4\u001b[0m start \u001b[38;5;241m=\u001b[39m time\u001b[38;5;241m.\u001b[39mprocess_time()\n\u001b[0;32m----> 6\u001b[0m image \u001b[38;5;241m=\u001b[39m cv2\u001b[38;5;241m.\u001b[39mcvtColor(\u001b[43mapply_fsrcnn\u001b[49m\u001b[43m(\u001b[49m\u001b[43mnp\u001b[49m\u001b[38;5;241;43m.\u001b[39;49m\u001b[43marray\u001b[49m\u001b[43m(\u001b[49m\u001b[43mImageGrab\u001b[49m\u001b[38;5;241;43m.\u001b[39;49m\u001b[43mgrab\u001b[49m\u001b[43m(\u001b[49m\u001b[43mbbox\u001b[49m\u001b[38;5;241;43m=\u001b[39;49m\u001b[43m(\u001b[49m\u001b[43mx1\u001b[49m\u001b[43m,\u001b[49m\u001b[43m \u001b[49m\u001b[43my1\u001b[49m\u001b[43m,\u001b[49m\u001b[43m \u001b[49m\u001b[43mx2\u001b[49m\u001b[43m,\u001b[49m\u001b[43m \u001b[49m\u001b[43my2\u001b[49m\u001b[43m)\u001b[49m\u001b[43m)\u001b[49m\u001b[43m)\u001b[49m\u001b[43m)\u001b[49m, cv2\u001b[38;5;241m.\u001b[39mCOLOR_BGR2RGB)\n\u001b[1;32m      7\u001b[0m cv2\u001b[38;5;241m.\u001b[39mimshow(\u001b[38;5;124m\"\u001b[39m\u001b[38;5;124mimage\u001b[39m\u001b[38;5;124m\"\u001b[39m,image)\n\u001b[1;32m      9\u001b[0m end \u001b[38;5;241m=\u001b[39m time\u001b[38;5;241m.\u001b[39mprocess_time()\n",
      "Input \u001b[0;32mIn [11]\u001b[0m, in \u001b[0;36mapply_fsrcnn\u001b[0;34m(x)\u001b[0m\n\u001b[1;32m      3\u001b[0m \u001b[38;5;28;01mdef\u001b[39;00m \u001b[38;5;21mapply_fsrcnn\u001b[39m(x):\n\u001b[0;32m----> 4\u001b[0m     sr \u001b[38;5;241m=\u001b[39m \u001b[43mfsrcnn\u001b[49m\u001b[38;5;241;43m.\u001b[39;49m\u001b[43mpredict\u001b[49m\u001b[43m(\u001b[49m\u001b[43mx\u001b[49m\u001b[43m[\u001b[49m\u001b[43mnp\u001b[49m\u001b[38;5;241;43m.\u001b[39;49m\u001b[43mnewaxis\u001b[49m\u001b[43m,\u001b[49m\u001b[43m \u001b[49m\u001b[38;5;241;43m.\u001b[39;49m\u001b[38;5;241;43m.\u001b[39;49m\u001b[38;5;241;43m.\u001b[39;49m\u001b[43m]\u001b[49m\u001b[38;5;241;43m/\u001b[39;49m\u001b[38;5;241;43m255.\u001b[39;49m\u001b[43m)\u001b[49m\n\u001b[1;32m      5\u001b[0m     sr[sr \u001b[38;5;241m>\u001b[39m \u001b[38;5;241m1\u001b[39m] \u001b[38;5;241m=\u001b[39m \u001b[38;5;241m1\u001b[39m\n\u001b[1;32m      6\u001b[0m     sr[sr \u001b[38;5;241m<\u001b[39m \u001b[38;5;241m0\u001b[39m] \u001b[38;5;241m=\u001b[39m \u001b[38;5;241m0\u001b[39m\n",
      "File \u001b[0;32m~/miniforge3/envs/tf39/lib/python3.9/site-packages/keras/utils/traceback_utils.py:67\u001b[0m, in \u001b[0;36mfilter_traceback.<locals>.error_handler\u001b[0;34m(*args, **kwargs)\u001b[0m\n\u001b[1;32m     65\u001b[0m \u001b[38;5;28;01mexcept\u001b[39;00m \u001b[38;5;167;01mException\u001b[39;00m \u001b[38;5;28;01mas\u001b[39;00m e:  \u001b[38;5;66;03m# pylint: disable=broad-except\u001b[39;00m\n\u001b[1;32m     66\u001b[0m   filtered_tb \u001b[38;5;241m=\u001b[39m _process_traceback_frames(e\u001b[38;5;241m.\u001b[39m__traceback__)\n\u001b[0;32m---> 67\u001b[0m   \u001b[38;5;28;01mraise\u001b[39;00m e\u001b[38;5;241m.\u001b[39mwith_traceback(filtered_tb) \u001b[38;5;28;01mfrom\u001b[39;00m \u001b[38;5;28mNone\u001b[39m\n\u001b[1;32m     68\u001b[0m \u001b[38;5;28;01mfinally\u001b[39;00m:\n\u001b[1;32m     69\u001b[0m   \u001b[38;5;28;01mdel\u001b[39;00m filtered_tb\n",
      "File \u001b[0;32m~/miniforge3/envs/tf39/lib/python3.9/site-packages/tensorflow/python/eager/execute.py:58\u001b[0m, in \u001b[0;36mquick_execute\u001b[0;34m(op_name, num_outputs, inputs, attrs, ctx, name)\u001b[0m\n\u001b[1;32m     56\u001b[0m \u001b[38;5;28;01mtry\u001b[39;00m:\n\u001b[1;32m     57\u001b[0m   ctx\u001b[38;5;241m.\u001b[39mensure_initialized()\n\u001b[0;32m---> 58\u001b[0m   tensors \u001b[38;5;241m=\u001b[39m pywrap_tfe\u001b[38;5;241m.\u001b[39mTFE_Py_Execute(ctx\u001b[38;5;241m.\u001b[39m_handle, device_name, op_name,\n\u001b[1;32m     59\u001b[0m                                       inputs, attrs, num_outputs)\n\u001b[1;32m     60\u001b[0m \u001b[38;5;28;01mexcept\u001b[39;00m core\u001b[38;5;241m.\u001b[39m_NotOkStatusException \u001b[38;5;28;01mas\u001b[39;00m e:\n\u001b[1;32m     61\u001b[0m   \u001b[38;5;28;01mif\u001b[39;00m name \u001b[38;5;129;01mis\u001b[39;00m \u001b[38;5;129;01mnot\u001b[39;00m \u001b[38;5;28;01mNone\u001b[39;00m:\n",
      "\u001b[0;31mInvalidArgumentError\u001b[0m:  input depth must be evenly divisible by filter depth: 4 vs 3\n\t [[node sequential/conv2d/Conv2D\n (defined at /Users/yu/miniforge3/envs/tf39/lib/python3.9/site-packages/keras/layers/convolutional.py:231)\n]] [Op:__inference_predict_function_1928]\n\nErrors may have originated from an input operation.\nInput Source operations connected to node sequential/conv2d/Conv2D:\nIn[0] IteratorGetNext (defined at /Users/yu/miniforge3/envs/tf39/lib/python3.9/site-packages/keras/engine/training.py:1610)\t\nIn[1] sequential/conv2d/Conv2D/ReadVariableOp:\n\nOperation defined at: (most recent call last)\n>>>   File \"/Users/yu/miniforge3/envs/tf39/lib/python3.9/runpy.py\", line 197, in _run_module_as_main\n>>>     return _run_code(code, main_globals, None,\n>>> \n>>>   File \"/Users/yu/miniforge3/envs/tf39/lib/python3.9/runpy.py\", line 87, in _run_code\n>>>     exec(code, run_globals)\n>>> \n>>>   File \"/Users/yu/miniforge3/envs/tf39/lib/python3.9/site-packages/ipykernel_launcher.py\", line 17, in <module>\n>>>     app.launch_new_instance()\n>>> \n>>>   File \"/Users/yu/miniforge3/envs/tf39/lib/python3.9/site-packages/traitlets/config/application.py\", line 846, in launch_instance\n>>>     app.start()\n>>> \n>>>   File \"/Users/yu/miniforge3/envs/tf39/lib/python3.9/site-packages/ipykernel/kernelapp.py\", line 712, in start\n>>>     self.io_loop.start()\n>>> \n>>>   File \"/Users/yu/miniforge3/envs/tf39/lib/python3.9/site-packages/tornado/platform/asyncio.py\", line 199, in start\n>>>     self.asyncio_loop.run_forever()\n>>> \n>>>   File \"/Users/yu/miniforge3/envs/tf39/lib/python3.9/asyncio/base_events.py\", line 601, in run_forever\n>>>     self._run_once()\n>>> \n>>>   File \"/Users/yu/miniforge3/envs/tf39/lib/python3.9/asyncio/base_events.py\", line 1905, in _run_once\n>>>     handle._run()\n>>> \n>>>   File \"/Users/yu/miniforge3/envs/tf39/lib/python3.9/asyncio/events.py\", line 80, in _run\n>>>     self._context.run(self._callback, *self._args)\n>>> \n>>>   File \"/Users/yu/miniforge3/envs/tf39/lib/python3.9/site-packages/ipykernel/kernelbase.py\", line 504, in dispatch_queue\n>>>     await self.process_one()\n>>> \n>>>   File \"/Users/yu/miniforge3/envs/tf39/lib/python3.9/site-packages/ipykernel/kernelbase.py\", line 493, in process_one\n>>>     await dispatch(*args)\n>>> \n>>>   File \"/Users/yu/miniforge3/envs/tf39/lib/python3.9/site-packages/ipykernel/kernelbase.py\", line 400, in dispatch_shell\n>>>     await result\n>>> \n>>>   File \"/Users/yu/miniforge3/envs/tf39/lib/python3.9/site-packages/ipykernel/kernelbase.py\", line 724, in execute_request\n>>>     reply_content = await reply_content\n>>> \n>>>   File \"/Users/yu/miniforge3/envs/tf39/lib/python3.9/site-packages/ipykernel/ipkernel.py\", line 390, in do_execute\n>>>     res = shell.run_cell(code, store_history=store_history, silent=silent)\n>>> \n>>>   File \"/Users/yu/miniforge3/envs/tf39/lib/python3.9/site-packages/ipykernel/zmqshell.py\", line 528, in run_cell\n>>>     return super().run_cell(*args, **kwargs)\n>>> \n>>>   File \"/Users/yu/miniforge3/envs/tf39/lib/python3.9/site-packages/IPython/core/interactiveshell.py\", line 2863, in run_cell\n>>>     result = self._run_cell(\n>>> \n>>>   File \"/Users/yu/miniforge3/envs/tf39/lib/python3.9/site-packages/IPython/core/interactiveshell.py\", line 2909, in _run_cell\n>>>     return runner(coro)\n>>> \n>>>   File \"/Users/yu/miniforge3/envs/tf39/lib/python3.9/site-packages/IPython/core/async_helpers.py\", line 129, in _pseudo_sync_runner\n>>>     coro.send(None)\n>>> \n>>>   File \"/Users/yu/miniforge3/envs/tf39/lib/python3.9/site-packages/IPython/core/interactiveshell.py\", line 3106, in run_cell_async\n>>>     has_raised = await self.run_ast_nodes(code_ast.body, cell_name,\n>>> \n>>>   File \"/Users/yu/miniforge3/envs/tf39/lib/python3.9/site-packages/IPython/core/interactiveshell.py\", line 3309, in run_ast_nodes\n>>>     if await self.run_code(code, result, async_=asy):\n>>> \n>>>   File \"/Users/yu/miniforge3/envs/tf39/lib/python3.9/site-packages/IPython/core/interactiveshell.py\", line 3369, in run_code\n>>>     exec(code_obj, self.user_global_ns, self.user_ns)\n>>> \n>>>   File \"/var/folders/l9/xyk822g16sl49q_kknpsjxtm0000gn/T/ipykernel_6606/3057197110.py\", line 9, in <cell line: 9>\n>>>     image = cv2.cvtColor(apply_fsrcnn(np.array(img)), cv2.COLOR_BGR2RGB)\n>>> \n>>>   File \"/var/folders/l9/xyk822g16sl49q_kknpsjxtm0000gn/T/ipykernel_6606/592340928.py\", line 4, in apply_fsrcnn\n>>>     sr = fsrcnn.predict(x[np.newaxis, ...]/255.)\n>>> \n>>>   File \"/Users/yu/miniforge3/envs/tf39/lib/python3.9/site-packages/keras/utils/traceback_utils.py\", line 64, in error_handler\n>>>     return fn(*args, **kwargs)\n>>> \n>>>   File \"/Users/yu/miniforge3/envs/tf39/lib/python3.9/site-packages/keras/engine/training.py\", line 1789, in predict\n>>>     tmp_batch_outputs = self.predict_function(iterator)\n>>> \n>>>   File \"/Users/yu/miniforge3/envs/tf39/lib/python3.9/site-packages/keras/engine/training.py\", line 1621, in predict_function\n>>>     return step_function(self, iterator)\n>>> \n>>>   File \"/Users/yu/miniforge3/envs/tf39/lib/python3.9/site-packages/keras/engine/training.py\", line 1611, in step_function\n>>>     outputs = model.distribute_strategy.run(run_step, args=(data,))\n>>> \n>>>   File \"/Users/yu/miniforge3/envs/tf39/lib/python3.9/site-packages/keras/engine/training.py\", line 1604, in run_step\n>>>     outputs = model.predict_step(data)\n>>> \n>>>   File \"/Users/yu/miniforge3/envs/tf39/lib/python3.9/site-packages/keras/engine/training.py\", line 1572, in predict_step\n>>>     return self(x, training=False)\n>>> \n>>>   File \"/Users/yu/miniforge3/envs/tf39/lib/python3.9/site-packages/keras/utils/traceback_utils.py\", line 64, in error_handler\n>>>     return fn(*args, **kwargs)\n>>> \n>>>   File \"/Users/yu/miniforge3/envs/tf39/lib/python3.9/site-packages/keras/engine/base_layer.py\", line 1083, in __call__\n>>>     outputs = call_fn(inputs, *args, **kwargs)\n>>> \n>>>   File \"/Users/yu/miniforge3/envs/tf39/lib/python3.9/site-packages/keras/utils/traceback_utils.py\", line 92, in error_handler\n>>>     return fn(*args, **kwargs)\n>>> \n>>>   File \"/Users/yu/miniforge3/envs/tf39/lib/python3.9/site-packages/keras/engine/sequential.py\", line 373, in call\n>>>     return super(Sequential, self).call(inputs, training=training, mask=mask)\n>>> \n>>>   File \"/Users/yu/miniforge3/envs/tf39/lib/python3.9/site-packages/keras/engine/functional.py\", line 451, in call\n>>>     return self._run_internal_graph(\n>>> \n>>>   File \"/Users/yu/miniforge3/envs/tf39/lib/python3.9/site-packages/keras/engine/functional.py\", line 589, in _run_internal_graph\n>>>     outputs = node.layer(*args, **kwargs)\n>>> \n>>>   File \"/Users/yu/miniforge3/envs/tf39/lib/python3.9/site-packages/keras/utils/traceback_utils.py\", line 64, in error_handler\n>>>     return fn(*args, **kwargs)\n>>> \n>>>   File \"/Users/yu/miniforge3/envs/tf39/lib/python3.9/site-packages/keras/engine/base_layer.py\", line 1083, in __call__\n>>>     outputs = call_fn(inputs, *args, **kwargs)\n>>> \n>>>   File \"/Users/yu/miniforge3/envs/tf39/lib/python3.9/site-packages/keras/utils/traceback_utils.py\", line 92, in error_handler\n>>>     return fn(*args, **kwargs)\n>>> \n>>>   File \"/Users/yu/miniforge3/envs/tf39/lib/python3.9/site-packages/keras/layers/convolutional.py\", line 246, in call\n>>>     outputs = self.convolution_op(inputs, self.kernel)\n>>> \n>>>   File \"/Users/yu/miniforge3/envs/tf39/lib/python3.9/site-packages/keras/layers/convolutional.py\", line 231, in convolution_op\n>>>     return tf.nn.convolution(\n>>> "
     ]
    }
   ],
   "source": [
    "# pil\n",
    "x1, y1, x2, y2 = 0, 0, 640, 480\n",
    "\n",
    "start = time.process_time()\n",
    "\n",
    "image = cv2.cvtColor(apply_fsrcnn(np.array(ImageGrab.grab(bbox=(x1, y1, x2, y2)))), cv2.COLOR_BGR2RGB)\n",
    "cv2.imshow(\"image\",image)\n",
    "\n",
    "end = time.process_time()\n",
    "\n",
    "key = cv2.waitKey(1)\n",
    "cv2.destroyAllWindows()\n",
    "\n",
    "print(end-start)"
   ]
  },
  {
   "cell_type": "code",
   "execution_count": 19,
   "id": "c4ae8587",
   "metadata": {
    "ExecuteTime": {
     "end_time": "2022-04-18T08:38:31.509538Z",
     "start_time": "2022-04-18T08:38:30.824166Z"
    }
   },
   "outputs": [
    {
     "name": "stdout",
     "output_type": "stream",
     "text": [
      "0.28841300000000025\n"
     ]
    }
   ],
   "source": [
    "# mss\n",
    "\n",
    "start = time.process_time()\n",
    "\n",
    "with mss.mss() as sct:\n",
    "    image = cv2.cvtColor(apply_fsrcnn(np.array(Image.frombytes(\"RGB\", sct.grab({\"top\": 0, \"left\": 0, \"width\": 640, \"height\": 380}).size, sct.grab({\"top\": 0, \"left\": 0, \"width\": 640, \"height\": 480}).bgra, \"raw\", \"BGRX\"))), cv2.COLOR_BGR2RGB)\n",
    "cv2.imshow(\"image\",image)\n",
    "\n",
    "end = time.process_time()\n",
    "\n",
    "cv2.waitKey(0)\n",
    "cv2.destroyAllWindows()\n",
    "cv2.waitKey(1)\n",
    "\n",
    "print(end-start)"
   ]
  },
  {
   "cell_type": "code",
   "execution_count": 20,
   "id": "2ccf6075",
   "metadata": {
    "ExecuteTime": {
     "end_time": "2022-04-18T08:38:35.763030Z",
     "start_time": "2022-04-18T08:38:35.465370Z"
    }
   },
   "outputs": [
    {
     "ename": "InvalidArgumentError",
     "evalue": " input depth must be evenly divisible by filter depth: 4 vs 3\n\t [[node sequential/conv2d/Conv2D\n (defined at /Users/yu/miniforge3/envs/tf39/lib/python3.9/site-packages/keras/layers/convolutional.py:231)\n]] [Op:__inference_predict_function_1928]\n\nErrors may have originated from an input operation.\nInput Source operations connected to node sequential/conv2d/Conv2D:\nIn[0] IteratorGetNext (defined at /Users/yu/miniforge3/envs/tf39/lib/python3.9/site-packages/keras/engine/training.py:1610)\t\nIn[1] sequential/conv2d/Conv2D/ReadVariableOp:\n\nOperation defined at: (most recent call last)\n>>>   File \"/Users/yu/miniforge3/envs/tf39/lib/python3.9/runpy.py\", line 197, in _run_module_as_main\n>>>     return _run_code(code, main_globals, None,\n>>> \n>>>   File \"/Users/yu/miniforge3/envs/tf39/lib/python3.9/runpy.py\", line 87, in _run_code\n>>>     exec(code, run_globals)\n>>> \n>>>   File \"/Users/yu/miniforge3/envs/tf39/lib/python3.9/site-packages/ipykernel_launcher.py\", line 17, in <module>\n>>>     app.launch_new_instance()\n>>> \n>>>   File \"/Users/yu/miniforge3/envs/tf39/lib/python3.9/site-packages/traitlets/config/application.py\", line 846, in launch_instance\n>>>     app.start()\n>>> \n>>>   File \"/Users/yu/miniforge3/envs/tf39/lib/python3.9/site-packages/ipykernel/kernelapp.py\", line 712, in start\n>>>     self.io_loop.start()\n>>> \n>>>   File \"/Users/yu/miniforge3/envs/tf39/lib/python3.9/site-packages/tornado/platform/asyncio.py\", line 199, in start\n>>>     self.asyncio_loop.run_forever()\n>>> \n>>>   File \"/Users/yu/miniforge3/envs/tf39/lib/python3.9/asyncio/base_events.py\", line 601, in run_forever\n>>>     self._run_once()\n>>> \n>>>   File \"/Users/yu/miniforge3/envs/tf39/lib/python3.9/asyncio/base_events.py\", line 1905, in _run_once\n>>>     handle._run()\n>>> \n>>>   File \"/Users/yu/miniforge3/envs/tf39/lib/python3.9/asyncio/events.py\", line 80, in _run\n>>>     self._context.run(self._callback, *self._args)\n>>> \n>>>   File \"/Users/yu/miniforge3/envs/tf39/lib/python3.9/site-packages/ipykernel/kernelbase.py\", line 504, in dispatch_queue\n>>>     await self.process_one()\n>>> \n>>>   File \"/Users/yu/miniforge3/envs/tf39/lib/python3.9/site-packages/ipykernel/kernelbase.py\", line 493, in process_one\n>>>     await dispatch(*args)\n>>> \n>>>   File \"/Users/yu/miniforge3/envs/tf39/lib/python3.9/site-packages/ipykernel/kernelbase.py\", line 400, in dispatch_shell\n>>>     await result\n>>> \n>>>   File \"/Users/yu/miniforge3/envs/tf39/lib/python3.9/site-packages/ipykernel/kernelbase.py\", line 724, in execute_request\n>>>     reply_content = await reply_content\n>>> \n>>>   File \"/Users/yu/miniforge3/envs/tf39/lib/python3.9/site-packages/ipykernel/ipkernel.py\", line 390, in do_execute\n>>>     res = shell.run_cell(code, store_history=store_history, silent=silent)\n>>> \n>>>   File \"/Users/yu/miniforge3/envs/tf39/lib/python3.9/site-packages/ipykernel/zmqshell.py\", line 528, in run_cell\n>>>     return super().run_cell(*args, **kwargs)\n>>> \n>>>   File \"/Users/yu/miniforge3/envs/tf39/lib/python3.9/site-packages/IPython/core/interactiveshell.py\", line 2863, in run_cell\n>>>     result = self._run_cell(\n>>> \n>>>   File \"/Users/yu/miniforge3/envs/tf39/lib/python3.9/site-packages/IPython/core/interactiveshell.py\", line 2909, in _run_cell\n>>>     return runner(coro)\n>>> \n>>>   File \"/Users/yu/miniforge3/envs/tf39/lib/python3.9/site-packages/IPython/core/async_helpers.py\", line 129, in _pseudo_sync_runner\n>>>     coro.send(None)\n>>> \n>>>   File \"/Users/yu/miniforge3/envs/tf39/lib/python3.9/site-packages/IPython/core/interactiveshell.py\", line 3106, in run_cell_async\n>>>     has_raised = await self.run_ast_nodes(code_ast.body, cell_name,\n>>> \n>>>   File \"/Users/yu/miniforge3/envs/tf39/lib/python3.9/site-packages/IPython/core/interactiveshell.py\", line 3309, in run_ast_nodes\n>>>     if await self.run_code(code, result, async_=asy):\n>>> \n>>>   File \"/Users/yu/miniforge3/envs/tf39/lib/python3.9/site-packages/IPython/core/interactiveshell.py\", line 3369, in run_code\n>>>     exec(code_obj, self.user_global_ns, self.user_ns)\n>>> \n>>>   File \"/var/folders/l9/xyk822g16sl49q_kknpsjxtm0000gn/T/ipykernel_6606/3057197110.py\", line 9, in <cell line: 9>\n>>>     image = cv2.cvtColor(apply_fsrcnn(np.array(img)), cv2.COLOR_BGR2RGB)\n>>> \n>>>   File \"/var/folders/l9/xyk822g16sl49q_kknpsjxtm0000gn/T/ipykernel_6606/592340928.py\", line 4, in apply_fsrcnn\n>>>     sr = fsrcnn.predict(x[np.newaxis, ...]/255.)\n>>> \n>>>   File \"/Users/yu/miniforge3/envs/tf39/lib/python3.9/site-packages/keras/utils/traceback_utils.py\", line 64, in error_handler\n>>>     return fn(*args, **kwargs)\n>>> \n>>>   File \"/Users/yu/miniforge3/envs/tf39/lib/python3.9/site-packages/keras/engine/training.py\", line 1789, in predict\n>>>     tmp_batch_outputs = self.predict_function(iterator)\n>>> \n>>>   File \"/Users/yu/miniforge3/envs/tf39/lib/python3.9/site-packages/keras/engine/training.py\", line 1621, in predict_function\n>>>     return step_function(self, iterator)\n>>> \n>>>   File \"/Users/yu/miniforge3/envs/tf39/lib/python3.9/site-packages/keras/engine/training.py\", line 1611, in step_function\n>>>     outputs = model.distribute_strategy.run(run_step, args=(data,))\n>>> \n>>>   File \"/Users/yu/miniforge3/envs/tf39/lib/python3.9/site-packages/keras/engine/training.py\", line 1604, in run_step\n>>>     outputs = model.predict_step(data)\n>>> \n>>>   File \"/Users/yu/miniforge3/envs/tf39/lib/python3.9/site-packages/keras/engine/training.py\", line 1572, in predict_step\n>>>     return self(x, training=False)\n>>> \n>>>   File \"/Users/yu/miniforge3/envs/tf39/lib/python3.9/site-packages/keras/utils/traceback_utils.py\", line 64, in error_handler\n>>>     return fn(*args, **kwargs)\n>>> \n>>>   File \"/Users/yu/miniforge3/envs/tf39/lib/python3.9/site-packages/keras/engine/base_layer.py\", line 1083, in __call__\n>>>     outputs = call_fn(inputs, *args, **kwargs)\n>>> \n>>>   File \"/Users/yu/miniforge3/envs/tf39/lib/python3.9/site-packages/keras/utils/traceback_utils.py\", line 92, in error_handler\n>>>     return fn(*args, **kwargs)\n>>> \n>>>   File \"/Users/yu/miniforge3/envs/tf39/lib/python3.9/site-packages/keras/engine/sequential.py\", line 373, in call\n>>>     return super(Sequential, self).call(inputs, training=training, mask=mask)\n>>> \n>>>   File \"/Users/yu/miniforge3/envs/tf39/lib/python3.9/site-packages/keras/engine/functional.py\", line 451, in call\n>>>     return self._run_internal_graph(\n>>> \n>>>   File \"/Users/yu/miniforge3/envs/tf39/lib/python3.9/site-packages/keras/engine/functional.py\", line 589, in _run_internal_graph\n>>>     outputs = node.layer(*args, **kwargs)\n>>> \n>>>   File \"/Users/yu/miniforge3/envs/tf39/lib/python3.9/site-packages/keras/utils/traceback_utils.py\", line 64, in error_handler\n>>>     return fn(*args, **kwargs)\n>>> \n>>>   File \"/Users/yu/miniforge3/envs/tf39/lib/python3.9/site-packages/keras/engine/base_layer.py\", line 1083, in __call__\n>>>     outputs = call_fn(inputs, *args, **kwargs)\n>>> \n>>>   File \"/Users/yu/miniforge3/envs/tf39/lib/python3.9/site-packages/keras/utils/traceback_utils.py\", line 92, in error_handler\n>>>     return fn(*args, **kwargs)\n>>> \n>>>   File \"/Users/yu/miniforge3/envs/tf39/lib/python3.9/site-packages/keras/layers/convolutional.py\", line 246, in call\n>>>     outputs = self.convolution_op(inputs, self.kernel)\n>>> \n>>>   File \"/Users/yu/miniforge3/envs/tf39/lib/python3.9/site-packages/keras/layers/convolutional.py\", line 231, in convolution_op\n>>>     return tf.nn.convolution(\n>>> ",
     "output_type": "error",
     "traceback": [
      "\u001b[0;31m---------------------------------------------------------------------------\u001b[0m",
      "\u001b[0;31mInvalidArgumentError\u001b[0m                      Traceback (most recent call last)",
      "Input \u001b[0;32mIn [20]\u001b[0m, in \u001b[0;36m<cell line: 9>\u001b[0;34m()\u001b[0m\n\u001b[1;32m      6\u001b[0m start \u001b[38;5;241m=\u001b[39m time\u001b[38;5;241m.\u001b[39mprocess_time()\n\u001b[1;32m      8\u001b[0m img\u001b[38;5;241m=\u001b[39mImageGrab2\u001b[38;5;241m.\u001b[39mgrab(bbox\u001b[38;5;241m=\u001b[39m(x1,y1,x2,y2))\n\u001b[0;32m----> 9\u001b[0m image \u001b[38;5;241m=\u001b[39m cv2\u001b[38;5;241m.\u001b[39mcvtColor(\u001b[43mapply_fsrcnn\u001b[49m\u001b[43m(\u001b[49m\u001b[43mnp\u001b[49m\u001b[38;5;241;43m.\u001b[39;49m\u001b[43marray\u001b[49m\u001b[43m(\u001b[49m\u001b[43mimg\u001b[49m\u001b[43m)\u001b[49m\u001b[43m)\u001b[49m, cv2\u001b[38;5;241m.\u001b[39mCOLOR_BGR2RGB)\n\u001b[1;32m     10\u001b[0m cv2\u001b[38;5;241m.\u001b[39mimshow(\u001b[38;5;124m\"\u001b[39m\u001b[38;5;124mimage\u001b[39m\u001b[38;5;124m\"\u001b[39m,image)\n\u001b[1;32m     12\u001b[0m end \u001b[38;5;241m=\u001b[39m time\u001b[38;5;241m.\u001b[39mprocess_time()\n",
      "Input \u001b[0;32mIn [11]\u001b[0m, in \u001b[0;36mapply_fsrcnn\u001b[0;34m(x)\u001b[0m\n\u001b[1;32m      3\u001b[0m \u001b[38;5;28;01mdef\u001b[39;00m \u001b[38;5;21mapply_fsrcnn\u001b[39m(x):\n\u001b[0;32m----> 4\u001b[0m     sr \u001b[38;5;241m=\u001b[39m \u001b[43mfsrcnn\u001b[49m\u001b[38;5;241;43m.\u001b[39;49m\u001b[43mpredict\u001b[49m\u001b[43m(\u001b[49m\u001b[43mx\u001b[49m\u001b[43m[\u001b[49m\u001b[43mnp\u001b[49m\u001b[38;5;241;43m.\u001b[39;49m\u001b[43mnewaxis\u001b[49m\u001b[43m,\u001b[49m\u001b[43m \u001b[49m\u001b[38;5;241;43m.\u001b[39;49m\u001b[38;5;241;43m.\u001b[39;49m\u001b[38;5;241;43m.\u001b[39;49m\u001b[43m]\u001b[49m\u001b[38;5;241;43m/\u001b[39;49m\u001b[38;5;241;43m255.\u001b[39;49m\u001b[43m)\u001b[49m\n\u001b[1;32m      5\u001b[0m     sr[sr \u001b[38;5;241m>\u001b[39m \u001b[38;5;241m1\u001b[39m] \u001b[38;5;241m=\u001b[39m \u001b[38;5;241m1\u001b[39m\n\u001b[1;32m      6\u001b[0m     sr[sr \u001b[38;5;241m<\u001b[39m \u001b[38;5;241m0\u001b[39m] \u001b[38;5;241m=\u001b[39m \u001b[38;5;241m0\u001b[39m\n",
      "File \u001b[0;32m~/miniforge3/envs/tf39/lib/python3.9/site-packages/keras/utils/traceback_utils.py:67\u001b[0m, in \u001b[0;36mfilter_traceback.<locals>.error_handler\u001b[0;34m(*args, **kwargs)\u001b[0m\n\u001b[1;32m     65\u001b[0m \u001b[38;5;28;01mexcept\u001b[39;00m \u001b[38;5;167;01mException\u001b[39;00m \u001b[38;5;28;01mas\u001b[39;00m e:  \u001b[38;5;66;03m# pylint: disable=broad-except\u001b[39;00m\n\u001b[1;32m     66\u001b[0m   filtered_tb \u001b[38;5;241m=\u001b[39m _process_traceback_frames(e\u001b[38;5;241m.\u001b[39m__traceback__)\n\u001b[0;32m---> 67\u001b[0m   \u001b[38;5;28;01mraise\u001b[39;00m e\u001b[38;5;241m.\u001b[39mwith_traceback(filtered_tb) \u001b[38;5;28;01mfrom\u001b[39;00m \u001b[38;5;28mNone\u001b[39m\n\u001b[1;32m     68\u001b[0m \u001b[38;5;28;01mfinally\u001b[39;00m:\n\u001b[1;32m     69\u001b[0m   \u001b[38;5;28;01mdel\u001b[39;00m filtered_tb\n",
      "File \u001b[0;32m~/miniforge3/envs/tf39/lib/python3.9/site-packages/tensorflow/python/eager/execute.py:58\u001b[0m, in \u001b[0;36mquick_execute\u001b[0;34m(op_name, num_outputs, inputs, attrs, ctx, name)\u001b[0m\n\u001b[1;32m     56\u001b[0m \u001b[38;5;28;01mtry\u001b[39;00m:\n\u001b[1;32m     57\u001b[0m   ctx\u001b[38;5;241m.\u001b[39mensure_initialized()\n\u001b[0;32m---> 58\u001b[0m   tensors \u001b[38;5;241m=\u001b[39m pywrap_tfe\u001b[38;5;241m.\u001b[39mTFE_Py_Execute(ctx\u001b[38;5;241m.\u001b[39m_handle, device_name, op_name,\n\u001b[1;32m     59\u001b[0m                                       inputs, attrs, num_outputs)\n\u001b[1;32m     60\u001b[0m \u001b[38;5;28;01mexcept\u001b[39;00m core\u001b[38;5;241m.\u001b[39m_NotOkStatusException \u001b[38;5;28;01mas\u001b[39;00m e:\n\u001b[1;32m     61\u001b[0m   \u001b[38;5;28;01mif\u001b[39;00m name \u001b[38;5;129;01mis\u001b[39;00m \u001b[38;5;129;01mnot\u001b[39;00m \u001b[38;5;28;01mNone\u001b[39;00m:\n",
      "\u001b[0;31mInvalidArgumentError\u001b[0m:  input depth must be evenly divisible by filter depth: 4 vs 3\n\t [[node sequential/conv2d/Conv2D\n (defined at /Users/yu/miniforge3/envs/tf39/lib/python3.9/site-packages/keras/layers/convolutional.py:231)\n]] [Op:__inference_predict_function_1928]\n\nErrors may have originated from an input operation.\nInput Source operations connected to node sequential/conv2d/Conv2D:\nIn[0] IteratorGetNext (defined at /Users/yu/miniforge3/envs/tf39/lib/python3.9/site-packages/keras/engine/training.py:1610)\t\nIn[1] sequential/conv2d/Conv2D/ReadVariableOp:\n\nOperation defined at: (most recent call last)\n>>>   File \"/Users/yu/miniforge3/envs/tf39/lib/python3.9/runpy.py\", line 197, in _run_module_as_main\n>>>     return _run_code(code, main_globals, None,\n>>> \n>>>   File \"/Users/yu/miniforge3/envs/tf39/lib/python3.9/runpy.py\", line 87, in _run_code\n>>>     exec(code, run_globals)\n>>> \n>>>   File \"/Users/yu/miniforge3/envs/tf39/lib/python3.9/site-packages/ipykernel_launcher.py\", line 17, in <module>\n>>>     app.launch_new_instance()\n>>> \n>>>   File \"/Users/yu/miniforge3/envs/tf39/lib/python3.9/site-packages/traitlets/config/application.py\", line 846, in launch_instance\n>>>     app.start()\n>>> \n>>>   File \"/Users/yu/miniforge3/envs/tf39/lib/python3.9/site-packages/ipykernel/kernelapp.py\", line 712, in start\n>>>     self.io_loop.start()\n>>> \n>>>   File \"/Users/yu/miniforge3/envs/tf39/lib/python3.9/site-packages/tornado/platform/asyncio.py\", line 199, in start\n>>>     self.asyncio_loop.run_forever()\n>>> \n>>>   File \"/Users/yu/miniforge3/envs/tf39/lib/python3.9/asyncio/base_events.py\", line 601, in run_forever\n>>>     self._run_once()\n>>> \n>>>   File \"/Users/yu/miniforge3/envs/tf39/lib/python3.9/asyncio/base_events.py\", line 1905, in _run_once\n>>>     handle._run()\n>>> \n>>>   File \"/Users/yu/miniforge3/envs/tf39/lib/python3.9/asyncio/events.py\", line 80, in _run\n>>>     self._context.run(self._callback, *self._args)\n>>> \n>>>   File \"/Users/yu/miniforge3/envs/tf39/lib/python3.9/site-packages/ipykernel/kernelbase.py\", line 504, in dispatch_queue\n>>>     await self.process_one()\n>>> \n>>>   File \"/Users/yu/miniforge3/envs/tf39/lib/python3.9/site-packages/ipykernel/kernelbase.py\", line 493, in process_one\n>>>     await dispatch(*args)\n>>> \n>>>   File \"/Users/yu/miniforge3/envs/tf39/lib/python3.9/site-packages/ipykernel/kernelbase.py\", line 400, in dispatch_shell\n>>>     await result\n>>> \n>>>   File \"/Users/yu/miniforge3/envs/tf39/lib/python3.9/site-packages/ipykernel/kernelbase.py\", line 724, in execute_request\n>>>     reply_content = await reply_content\n>>> \n>>>   File \"/Users/yu/miniforge3/envs/tf39/lib/python3.9/site-packages/ipykernel/ipkernel.py\", line 390, in do_execute\n>>>     res = shell.run_cell(code, store_history=store_history, silent=silent)\n>>> \n>>>   File \"/Users/yu/miniforge3/envs/tf39/lib/python3.9/site-packages/ipykernel/zmqshell.py\", line 528, in run_cell\n>>>     return super().run_cell(*args, **kwargs)\n>>> \n>>>   File \"/Users/yu/miniforge3/envs/tf39/lib/python3.9/site-packages/IPython/core/interactiveshell.py\", line 2863, in run_cell\n>>>     result = self._run_cell(\n>>> \n>>>   File \"/Users/yu/miniforge3/envs/tf39/lib/python3.9/site-packages/IPython/core/interactiveshell.py\", line 2909, in _run_cell\n>>>     return runner(coro)\n>>> \n>>>   File \"/Users/yu/miniforge3/envs/tf39/lib/python3.9/site-packages/IPython/core/async_helpers.py\", line 129, in _pseudo_sync_runner\n>>>     coro.send(None)\n>>> \n>>>   File \"/Users/yu/miniforge3/envs/tf39/lib/python3.9/site-packages/IPython/core/interactiveshell.py\", line 3106, in run_cell_async\n>>>     has_raised = await self.run_ast_nodes(code_ast.body, cell_name,\n>>> \n>>>   File \"/Users/yu/miniforge3/envs/tf39/lib/python3.9/site-packages/IPython/core/interactiveshell.py\", line 3309, in run_ast_nodes\n>>>     if await self.run_code(code, result, async_=asy):\n>>> \n>>>   File \"/Users/yu/miniforge3/envs/tf39/lib/python3.9/site-packages/IPython/core/interactiveshell.py\", line 3369, in run_code\n>>>     exec(code_obj, self.user_global_ns, self.user_ns)\n>>> \n>>>   File \"/var/folders/l9/xyk822g16sl49q_kknpsjxtm0000gn/T/ipykernel_6606/3057197110.py\", line 9, in <cell line: 9>\n>>>     image = cv2.cvtColor(apply_fsrcnn(np.array(img)), cv2.COLOR_BGR2RGB)\n>>> \n>>>   File \"/var/folders/l9/xyk822g16sl49q_kknpsjxtm0000gn/T/ipykernel_6606/592340928.py\", line 4, in apply_fsrcnn\n>>>     sr = fsrcnn.predict(x[np.newaxis, ...]/255.)\n>>> \n>>>   File \"/Users/yu/miniforge3/envs/tf39/lib/python3.9/site-packages/keras/utils/traceback_utils.py\", line 64, in error_handler\n>>>     return fn(*args, **kwargs)\n>>> \n>>>   File \"/Users/yu/miniforge3/envs/tf39/lib/python3.9/site-packages/keras/engine/training.py\", line 1789, in predict\n>>>     tmp_batch_outputs = self.predict_function(iterator)\n>>> \n>>>   File \"/Users/yu/miniforge3/envs/tf39/lib/python3.9/site-packages/keras/engine/training.py\", line 1621, in predict_function\n>>>     return step_function(self, iterator)\n>>> \n>>>   File \"/Users/yu/miniforge3/envs/tf39/lib/python3.9/site-packages/keras/engine/training.py\", line 1611, in step_function\n>>>     outputs = model.distribute_strategy.run(run_step, args=(data,))\n>>> \n>>>   File \"/Users/yu/miniforge3/envs/tf39/lib/python3.9/site-packages/keras/engine/training.py\", line 1604, in run_step\n>>>     outputs = model.predict_step(data)\n>>> \n>>>   File \"/Users/yu/miniforge3/envs/tf39/lib/python3.9/site-packages/keras/engine/training.py\", line 1572, in predict_step\n>>>     return self(x, training=False)\n>>> \n>>>   File \"/Users/yu/miniforge3/envs/tf39/lib/python3.9/site-packages/keras/utils/traceback_utils.py\", line 64, in error_handler\n>>>     return fn(*args, **kwargs)\n>>> \n>>>   File \"/Users/yu/miniforge3/envs/tf39/lib/python3.9/site-packages/keras/engine/base_layer.py\", line 1083, in __call__\n>>>     outputs = call_fn(inputs, *args, **kwargs)\n>>> \n>>>   File \"/Users/yu/miniforge3/envs/tf39/lib/python3.9/site-packages/keras/utils/traceback_utils.py\", line 92, in error_handler\n>>>     return fn(*args, **kwargs)\n>>> \n>>>   File \"/Users/yu/miniforge3/envs/tf39/lib/python3.9/site-packages/keras/engine/sequential.py\", line 373, in call\n>>>     return super(Sequential, self).call(inputs, training=training, mask=mask)\n>>> \n>>>   File \"/Users/yu/miniforge3/envs/tf39/lib/python3.9/site-packages/keras/engine/functional.py\", line 451, in call\n>>>     return self._run_internal_graph(\n>>> \n>>>   File \"/Users/yu/miniforge3/envs/tf39/lib/python3.9/site-packages/keras/engine/functional.py\", line 589, in _run_internal_graph\n>>>     outputs = node.layer(*args, **kwargs)\n>>> \n>>>   File \"/Users/yu/miniforge3/envs/tf39/lib/python3.9/site-packages/keras/utils/traceback_utils.py\", line 64, in error_handler\n>>>     return fn(*args, **kwargs)\n>>> \n>>>   File \"/Users/yu/miniforge3/envs/tf39/lib/python3.9/site-packages/keras/engine/base_layer.py\", line 1083, in __call__\n>>>     outputs = call_fn(inputs, *args, **kwargs)\n>>> \n>>>   File \"/Users/yu/miniforge3/envs/tf39/lib/python3.9/site-packages/keras/utils/traceback_utils.py\", line 92, in error_handler\n>>>     return fn(*args, **kwargs)\n>>> \n>>>   File \"/Users/yu/miniforge3/envs/tf39/lib/python3.9/site-packages/keras/layers/convolutional.py\", line 246, in call\n>>>     outputs = self.convolution_op(inputs, self.kernel)\n>>> \n>>>   File \"/Users/yu/miniforge3/envs/tf39/lib/python3.9/site-packages/keras/layers/convolutional.py\", line 231, in convolution_op\n>>>     return tf.nn.convolution(\n>>> "
     ]
    }
   ],
   "source": [
    "# pyscreenshot\n",
    "import pyscreenshot as ImageGrab2\n",
    "\n",
    "x1, y1, x2, y2 = 0, 0, 640, 480\n",
    "\n",
    "start = time.process_time()\n",
    "\n",
    "img=ImageGrab2.grab(bbox=(x1,y1,x2,y2))\n",
    "image = cv2.cvtColor(apply_fsrcnn(np.array(img)), cv2.COLOR_BGR2RGB)\n",
    "cv2.imshow(\"image\",image)\n",
    "\n",
    "end = time.process_time()\n",
    "\n",
    "key = cv2.waitKey(0)\n",
    "cv2.destroyAllWindows()\n",
    "cv2.waitKey(1)\n",
    "\n",
    "print(end-start)"
   ]
  },
  {
   "cell_type": "code",
   "execution_count": 31,
   "id": "8dd0ef63",
   "metadata": {
    "ExecuteTime": {
     "end_time": "2022-04-18T08:43:16.004994Z",
     "start_time": "2022-04-18T08:43:15.840955Z"
    }
   },
   "outputs": [],
   "source": [
    "a = ImageGrab.grab(bbox=(x1, y1, x2, y2))"
   ]
  },
  {
   "cell_type": "code",
   "execution_count": 32,
   "id": "dda446f5",
   "metadata": {
    "ExecuteTime": {
     "end_time": "2022-04-18T08:43:16.352729Z",
     "start_time": "2022-04-18T08:43:16.157207Z"
    }
   },
   "outputs": [],
   "source": [
    "img=ImageGrab2.grab(bbox=(x1,y1,x2,y2))"
   ]
  },
  {
   "cell_type": "code",
   "execution_count": 33,
   "id": "84e9da3d",
   "metadata": {
    "ExecuteTime": {
     "end_time": "2022-04-18T08:43:16.550672Z",
     "start_time": "2022-04-18T08:43:16.515276Z"
    }
   },
   "outputs": [],
   "source": [
    "with mss.mss() as sct:\n",
    "    monitor = {\"top\": 0, \"left\": 0, \"width\": 640, \"height\": 480}\n",
    "    sct_img = sct.grab(monitor)\n",
    "    img2 = Image.frombytes(\"RGB\", sct_img.size, sct_img.bgra, \"raw\", \"BGRX\")"
   ]
  },
  {
   "cell_type": "code",
   "execution_count": null,
   "id": "9fe7e65e",
   "metadata": {},
   "outputs": [],
   "source": []
  }
 ],
 "metadata": {
  "kernelspec": {
   "display_name": "Python 3 (ipykernel)",
   "language": "python",
   "name": "python3"
  },
  "language_info": {
   "codemirror_mode": {
    "name": "ipython",
    "version": 3
   },
   "file_extension": ".py",
   "mimetype": "text/x-python",
   "name": "python",
   "nbconvert_exporter": "python",
   "pygments_lexer": "ipython3",
   "version": "3.9.12"
  },
  "nbTranslate": {
   "displayLangs": [
    "*"
   ],
   "hotkey": "alt-t",
   "langInMainMenu": true,
   "sourceLang": "en",
   "targetLang": "fr",
   "useGoogleTranslate": true
  },
  "toc": {
   "base_numbering": 1,
   "nav_menu": {},
   "number_sections": true,
   "sideBar": true,
   "skip_h1_title": false,
   "title_cell": "Table of Contents",
   "title_sidebar": "Contents",
   "toc_cell": false,
   "toc_position": {},
   "toc_section_display": true,
   "toc_window_display": false
  },
  "varInspector": {
   "cols": {
    "lenName": 16,
    "lenType": 16,
    "lenVar": 40
   },
   "kernels_config": {
    "python": {
     "delete_cmd_postfix": "",
     "delete_cmd_prefix": "del ",
     "library": "var_list.py",
     "varRefreshCmd": "print(var_dic_list())"
    },
    "r": {
     "delete_cmd_postfix": ") ",
     "delete_cmd_prefix": "rm(",
     "library": "var_list.r",
     "varRefreshCmd": "cat(var_dic_list()) "
    }
   },
   "types_to_exclude": [
    "module",
    "function",
    "builtin_function_or_method",
    "instance",
    "_Feature"
   ],
   "window_display": false
  }
 },
 "nbformat": 4,
 "nbformat_minor": 5
}
